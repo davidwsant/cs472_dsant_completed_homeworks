{
 "cells": [
  {
   "cell_type": "code",
   "execution_count": 1,
   "metadata": {},
   "outputs": [],
   "source": [
    "import arff\n",
    "import random\n",
    "import csv\n",
    "import pandas as pd\n",
    "import scipy as sc\n",
    "import numpy as np\n",
    "import copy\n",
    "import numpy as np\n",
    "import math \n",
    "import sklearn\n",
    "from sklearn.metrics import classification_report, confusion_matrix"
   ]
  },
  {
   "cell_type": "code",
   "execution_count": 2,
   "metadata": {},
   "outputs": [],
   "source": [
    "from mlp import *"
   ]
  },
  {
   "cell_type": "code",
   "execution_count": 3,
   "metadata": {},
   "outputs": [
    {
     "data": {
      "text/plain": [
       "{'description': '',\n",
       " 'relation': 'linSep2nonorigin',\n",
       " 'attributes': [('a1', 'REAL'), ('a2', 'REAL'), ('class', ['0', '1'])],\n",
       " 'data': [[-0.4, 0.3, '1'],\n",
       "  [-0.3, 0.8, '1'],\n",
       "  [-0.2, 0.3, '1'],\n",
       "  [-0.1, 0.9, '1'],\n",
       "  [-0.1, 0.1, '0'],\n",
       "  [0.0, -0.2, '0'],\n",
       "  [0.1, 0.2, '0'],\n",
       "  [0.2, -0.2, '0']]}"
      ]
     },
     "execution_count": 3,
     "metadata": {},
     "output_type": "execute_result"
    }
   ],
   "source": [
    "linsep_raw = arff.load(open('linsep2nonorigin.arff'))\n",
    "linsep_raw"
   ]
  },
  {
   "cell_type": "code",
   "execution_count": 4,
   "metadata": {},
   "outputs": [
    {
     "name": "stdout",
     "output_type": "stream",
     "text": [
      "['1', '1', '1', '1', '0', '0', '0', '0']\n"
     ]
    },
    {
     "data": {
      "text/plain": [
       "[[-0.4, 0.3],\n",
       " [-0.3, 0.8],\n",
       " [-0.2, 0.3],\n",
       " [-0.1, 0.9],\n",
       " [-0.1, 0.1],\n",
       " [0.0, -0.2],\n",
       " [0.1, 0.2],\n",
       " [0.2, -0.2]]"
      ]
     },
     "execution_count": 4,
     "metadata": {},
     "output_type": "execute_result"
    }
   ],
   "source": [
    "linsep_values = []\n",
    "linsep_labels = []\n",
    "for entry in linsep_raw['data']:\n",
    "    linsep_values.append(entry[0:-1])\n",
    "    linsep_labels.append((entry[-1]))\n",
    "    \n",
    "print(linsep_labels)\n",
    "linsep_values"
   ]
  },
  {
   "cell_type": "code",
   "execution_count": 5,
   "metadata": {},
   "outputs": [],
   "source": [
    "linsep_MLP = MLP(hidden_nodes=7, no_improvement_break=50, max_iterations=500)\n",
    "linsep_MLP.fit(linsep_values, linsep_labels)  \n"
   ]
  },
  {
   "cell_type": "code",
   "execution_count": 6,
   "metadata": {},
   "outputs": [
    {
     "data": {
      "text/plain": [
       "0.3251689042154294"
      ]
     },
     "execution_count": 6,
     "metadata": {},
     "output_type": "execute_result"
    }
   ],
   "source": [
    "linsep_MLP.rmse[-1]"
   ]
  },
  {
   "cell_type": "code",
   "execution_count": 7,
   "metadata": {},
   "outputs": [
    {
     "data": {
      "text/plain": [
       "0.17929620072301924"
      ]
     },
     "execution_count": 7,
     "metadata": {},
     "output_type": "execute_result"
    }
   ],
   "source": [
    "linsep_MLP.training_rmse[-1]"
   ]
  },
  {
   "cell_type": "code",
   "execution_count": 8,
   "metadata": {},
   "outputs": [
    {
     "data": {
      "text/plain": [
       "0.32421871148249015"
      ]
     },
     "execution_count": 8,
     "metadata": {},
     "output_type": "execute_result"
    }
   ],
   "source": [
    "linsep_MLP.best_rmse"
   ]
  },
  {
   "cell_type": "markdown",
   "metadata": {},
   "source": [
    "It looks like the training RMSE is about half of the rmse on the test set"
   ]
  },
  {
   "cell_type": "code",
   "execution_count": 9,
   "metadata": {},
   "outputs": [],
   "source": [
    "output_classes = linsep_MLP.predict(linsep_values)"
   ]
  },
  {
   "cell_type": "code",
   "execution_count": 10,
   "metadata": {},
   "outputs": [],
   "source": [
    "from sklearn.metrics import classification_report, confusion_matrix"
   ]
  },
  {
   "cell_type": "code",
   "execution_count": 11,
   "metadata": {},
   "outputs": [
    {
     "name": "stdout",
     "output_type": "stream",
     "text": [
      "              precision    recall  f1-score   support\n",
      "\n",
      "           0       1.00      1.00      1.00         4\n",
      "           1       1.00      1.00      1.00         4\n",
      "\n",
      "    accuracy                           1.00         8\n",
      "   macro avg       1.00      1.00      1.00         8\n",
      "weighted avg       1.00      1.00      1.00         8\n",
      "\n"
     ]
    }
   ],
   "source": [
    "print(classification_report(linsep_labels, output_classes))"
   ]
  },
  {
   "cell_type": "code",
   "execution_count": 12,
   "metadata": {},
   "outputs": [
    {
     "name": "stdout",
     "output_type": "stream",
     "text": [
      "[[4 0]\n",
      " [0 4]]\n"
     ]
    }
   ],
   "source": [
    "print(confusion_matrix(linsep_labels, output_classes))"
   ]
  },
  {
   "cell_type": "code",
   "execution_count": 13,
   "metadata": {},
   "outputs": [
    {
     "data": {
      "text/plain": [
       "[array([[ 0.11148551,  2.13100393,  1.5143493 ,  1.90857385,  0.67508502,\n",
       "         -1.4871642 , -0.8652406 ],\n",
       "        [ 1.82942441, -1.76130441, -1.23038736, -1.30935416,  0.69211759,\n",
       "          2.74994393,  2.3877805 ],\n",
       "        [ 0.09855578,  0.72663742,  0.49069241,  0.5793337 ,  0.57347255,\n",
       "         -0.84282389, -0.57307099]]),\n",
       " array([[-0.96458417,  1.06325498],\n",
       "        [ 1.97896554, -2.07503459],\n",
       "        [ 1.33870275, -1.54011628],\n",
       "        [ 1.75495498, -1.49122819],\n",
       "        [ 0.10190068,  0.11472172],\n",
       "        [-2.35977586,  2.43908526],\n",
       "        [-1.52428792,  2.17427577],\n",
       "        [ 0.34928714, -0.93793717]])]"
      ]
     },
     "execution_count": 13,
     "metadata": {},
     "output_type": "execute_result"
    }
   ],
   "source": [
    "linsep_MLP.best_weights"
   ]
  },
  {
   "cell_type": "markdown",
   "metadata": {},
   "source": [
    "Well, I guess when you only have 4 in each of 2 classes, it is pretty easy to get them correct"
   ]
  },
  {
   "cell_type": "code",
   "execution_count": 14,
   "metadata": {},
   "outputs": [],
   "source": [
    "# now I am going to do this again with the specifications given in the homework\n",
    "# except I didn't update the learning rate. I need to do that. \n",
    "# I also didn't make it possible to use all zeros for starting weights\n",
    "\n",
    "linsep_MLP = MLP(hidden_nodes=4, no_improvement_break=100, max_iterations=10, step_size=0.1, shuffle=False, initial_weights_zero = True, momentum=0.5)\n",
    "linsep_MLP.fit(linsep_values, linsep_labels)  #or just values instead of scaled_values\n",
    "\n"
   ]
  },
  {
   "cell_type": "code",
   "execution_count": 15,
   "metadata": {},
   "outputs": [
    {
     "data": {
      "text/plain": [
       "[array([[ 9.25998130e-05,  9.25998130e-05,  9.25998130e-05,\n",
       "          9.25998130e-05],\n",
       "        [-5.66370570e-04, -5.66370570e-04, -5.66370570e-04,\n",
       "         -5.66370570e-04],\n",
       "        [-2.03710193e-03, -2.03710193e-03, -2.03710193e-03,\n",
       "         -2.03710193e-03]]),\n",
       " array([[-0.00202777,  0.00202777],\n",
       "        [-0.00202777,  0.00202777],\n",
       "        [-0.00202777,  0.00202777],\n",
       "        [-0.00202777,  0.00202777],\n",
       "        [-0.0041204 ,  0.0041204 ]])]"
      ]
     },
     "execution_count": 15,
     "metadata": {},
     "output_type": "execute_result"
    }
   ],
   "source": [
    "linsep_MLP.weight_matrices"
   ]
  },
  {
   "cell_type": "code",
   "execution_count": 16,
   "metadata": {},
   "outputs": [
    {
     "data": {
      "text/plain": [
       "[0.001574684975438346, -0.007882184463621048]"
      ]
     },
     "execution_count": 16,
     "metadata": {},
     "output_type": "execute_result"
    }
   ],
   "source": [
    "# this is what was recorded in the homeworks\n",
    "[1.050641719962177451e-02, 1.050641719962177451e-02, 1.050641719962177451e-02, 1.050641719962177451e-02]\n",
    "[2.148777913098560283e-02, -1.050641719962178491e-02, -1.050641719962178491e-02, -1.050641719962178491e-02]\n",
    "[-1.050641719962178491e-02, -2.148777913098558895e-02, -1.814943182760951840e-04, 1.574684975438346004e-03]\n",
    "\n",
    "\n",
    "[-7.882184463621048215e-03, -1.814943182760951840e-04]\n",
    "[1.574684975438346004e-03, -7.882184463621048215e-03]\n",
    "[-1.814943182760951840e-04, 1.574684975438346004e-03]\n",
    "[-7.882184463621048215e-03, -1.814943182760951840e-04]\n",
    "[1.574684975438346004e-03, -7.882184463621048215e-03]"
   ]
  },
  {
   "cell_type": "markdown",
   "metadata": {},
   "source": [
    "Mine always splits the input so that it can use part of it for training and the other part for test, but my results don't look anything like the what the homework has"
   ]
  },
  {
   "cell_type": "code",
   "execution_count": 17,
   "metadata": {},
   "outputs": [
    {
     "data": {
      "text/plain": [
       "[array([[ 9.25998130e-05,  9.25998130e-05,  9.25998130e-05,\n",
       "          9.25998130e-05],\n",
       "        [-5.66370570e-04, -5.66370570e-04, -5.66370570e-04,\n",
       "         -5.66370570e-04],\n",
       "        [-2.03710193e-03, -2.03710193e-03, -2.03710193e-03,\n",
       "         -2.03710193e-03]]),\n",
       " array([[-0.00202777,  0.00202777],\n",
       "        [-0.00202777,  0.00202777],\n",
       "        [-0.00202777,  0.00202777],\n",
       "        [-0.00202777,  0.00202777],\n",
       "        [-0.0041204 ,  0.0041204 ]])]"
      ]
     },
     "execution_count": 17,
     "metadata": {},
     "output_type": "execute_result"
    }
   ],
   "source": [
    "linsep_MLP.best_weights"
   ]
  },
  {
   "cell_type": "code",
   "execution_count": 18,
   "metadata": {},
   "outputs": [
    {
     "data": {
      "text/plain": [
       "10"
      ]
     },
     "execution_count": 18,
     "metadata": {},
     "output_type": "execute_result"
    }
   ],
   "source": [
    "linsep_MLP.best_epoch"
   ]
  },
  {
   "cell_type": "code",
   "execution_count": 19,
   "metadata": {},
   "outputs": [
    {
     "data": {
      "text/plain": [
       "[0.5000092474847885,\n",
       " 0.5000082721464579,\n",
       " 0.5000074458146871,\n",
       " 0.5000067433474011,\n",
       " 0.5000061441546593,\n",
       " 0.5000056313332366,\n",
       " 0.5000051909708021,\n",
       " 0.5000048115858652,\n",
       " 0.5000044836764735,\n",
       " 0.5000041993560841]"
      ]
     },
     "execution_count": 19,
     "metadata": {},
     "output_type": "execute_result"
    }
   ],
   "source": [
    "linsep_MLP.rmse"
   ]
  },
  {
   "cell_type": "markdown",
   "metadata": {},
   "source": [
    "Well, not starting with all zeros appears to have changed this a whole ton. Oh well. "
   ]
  },
  {
   "cell_type": "code",
   "execution_count": 20,
   "metadata": {},
   "outputs": [],
   "source": [
    "# Now I want to try out the sklearn and see what I get\n",
    "from sklearn.base import BaseEstimator, ClassifierMixin\n",
    "from sklearn.neural_network import MLPClassifier\n",
    "import numpy as np\n",
    "import matplotlib.pyplot as plt"
   ]
  },
  {
   "cell_type": "code",
   "execution_count": 25,
   "metadata": {},
   "outputs": [
    {
     "name": "stderr",
     "output_type": "stream",
     "text": [
      "/home/dsant/anaconda3/lib/python3.8/site-packages/sklearn/neural_network/_multilayer_perceptron.py:582: ConvergenceWarning: Stochastic Optimizer: Maximum iterations (1) reached and the optimization hasn't converged yet.\n",
      "  warnings.warn(\n"
     ]
    }
   ],
   "source": [
    "clf = MLPClassifier(shuffle=False, hidden_layer_sizes=(4), activation='logistic', max_iter=1, learning_rate='constant', learning_rate_init=0.1, momentum=0.5).fit(linsep_values, linsep_labels)"
   ]
  },
  {
   "cell_type": "code",
   "execution_count": 26,
   "metadata": {},
   "outputs": [
    {
     "data": {
      "text/plain": [
       "array(['0', '0', '0', '0', '0', '0', '0', '0'], dtype='<U1')"
      ]
     },
     "execution_count": 26,
     "metadata": {},
     "output_type": "execute_result"
    }
   ],
   "source": [
    "clf.predict(linsep_values)"
   ]
  },
  {
   "cell_type": "code",
   "execution_count": 27,
   "metadata": {},
   "outputs": [
    {
     "data": {
      "text/plain": [
       "0.7050818323670163"
      ]
     },
     "execution_count": 27,
     "metadata": {},
     "output_type": "execute_result"
    }
   ],
   "source": [
    "clf.best_loss_"
   ]
  },
  {
   "cell_type": "code",
   "execution_count": 28,
   "metadata": {},
   "outputs": [
    {
     "data": {
      "text/plain": [
       "[array([[ 0.63565085,  0.53380833, -0.57033358,  0.35316601],\n",
       "        [-0.61215549,  0.25486784,  0.55987672, -0.37600693]]),\n",
       " array([[-0.21660287],\n",
       "        [-0.12942012],\n",
       "        [ 0.28889482],\n",
       "        [-0.23126928]])]"
      ]
     },
     "execution_count": 28,
     "metadata": {},
     "output_type": "execute_result"
    }
   ],
   "source": [
    "clf.coefs_"
   ]
  },
  {
   "cell_type": "markdown",
   "metadata": {},
   "source": [
    "It looks like this didn't start with initial weights of zero. Nor sure how to make it do that. Oh well. "
   ]
  },
  {
   "cell_type": "code",
   "execution_count": null,
   "metadata": {},
   "outputs": [],
   "source": []
  },
  {
   "cell_type": "code",
   "execution_count": 61,
   "metadata": {},
   "outputs": [],
   "source": [
    "banknote_raw = arff.load(open('data_banknote_authentication.arff'))\n",
    "#banknote_raw"
   ]
  },
  {
   "cell_type": "code",
   "execution_count": 60,
   "metadata": {},
   "outputs": [],
   "source": [
    "banknote_values = []\n",
    "banknote_labels = []\n",
    "for entry in banknote_raw['data']:\n",
    "    banknote_values.append(entry[0:-1])\n",
    "    banknote_labels.append((entry[-1]))\n",
    "    \n",
    "#print(banknote_labels)\n",
    "#banknote_values"
   ]
  },
  {
   "cell_type": "code",
   "execution_count": 31,
   "metadata": {},
   "outputs": [],
   "source": [
    "banknote_MLP = MLP(hidden_nodes=4, no_improvement_break=50, max_iterations=10, step_size=0.1, shuffle=False, momentum=0.5)\n",
    "banknote_MLP.fit(banknote_values, banknote_labels)  #or just values instead of scaled_values"
   ]
  },
  {
   "cell_type": "code",
   "execution_count": 32,
   "metadata": {},
   "outputs": [
    {
     "data": {
      "text/plain": [
       "[array([[ 1.72646327,  1.25672837,  2.04746753,  1.9100961 ],\n",
       "        [ 1.12489484,  0.83004856,  1.38612976,  1.07766463],\n",
       "        [ 1.17194602,  0.79095454,  1.83396084,  1.12893832],\n",
       "        [ 0.23330998,  0.25591873, -0.10774083,  0.19011937],\n",
       "        [-1.93360367, -1.03700479, -2.17480297, -1.57100632]]),\n",
       " array([[ 2.35785354, -1.88345969],\n",
       "        [ 1.24299337, -1.04846519],\n",
       "        [ 2.28540574, -2.78842378],\n",
       "        [ 1.92960427, -2.11313382],\n",
       "        [-4.13140164,  4.24973826]])]"
      ]
     },
     "execution_count": 32,
     "metadata": {},
     "output_type": "execute_result"
    }
   ],
   "source": [
    "banknote_MLP.best_weights"
   ]
  },
  {
   "cell_type": "markdown",
   "metadata": {},
   "source": [
    "I don't have any notes on what these weights are supposed to be, but I would be willing to bet mine are way off because I started with random weights instead of zeros. "
   ]
  },
  {
   "cell_type": "markdown",
   "metadata": {},
   "source": [
    "I am curious as to how well this one did. "
   ]
  },
  {
   "cell_type": "code",
   "execution_count": 33,
   "metadata": {},
   "outputs": [
    {
     "data": {
      "text/plain": [
       "[array([[ 1.72646327,  1.25672837,  2.04746753,  1.9100961 ],\n",
       "        [ 1.12489484,  0.83004856,  1.38612976,  1.07766463],\n",
       "        [ 1.17194602,  0.79095454,  1.83396084,  1.12893832],\n",
       "        [ 0.23330998,  0.25591873, -0.10774083,  0.19011937],\n",
       "        [-1.93360367, -1.03700479, -2.17480297, -1.57100632]]),\n",
       " array([[ 2.35785354, -1.88345969],\n",
       "        [ 1.24299337, -1.04846519],\n",
       "        [ 2.28540574, -2.78842378],\n",
       "        [ 1.92960427, -2.11313382],\n",
       "        [-4.13140164,  4.24973826]])]"
      ]
     },
     "execution_count": 33,
     "metadata": {},
     "output_type": "execute_result"
    }
   ],
   "source": [
    "banknote_MLP.weight_matrices"
   ]
  },
  {
   "cell_type": "code",
   "execution_count": 34,
   "metadata": {},
   "outputs": [
    {
     "data": {
      "text/plain": [
       "10"
      ]
     },
     "execution_count": 34,
     "metadata": {},
     "output_type": "execute_result"
    }
   ],
   "source": [
    "banknote_MLP.best_epoch"
   ]
  },
  {
   "cell_type": "code",
   "execution_count": 35,
   "metadata": {},
   "outputs": [],
   "source": [
    "banknote_outputs = banknote_MLP.predict(banknote_values)"
   ]
  },
  {
   "cell_type": "code",
   "execution_count": 36,
   "metadata": {},
   "outputs": [
    {
     "name": "stdout",
     "output_type": "stream",
     "text": [
      "              precision    recall  f1-score   support\n",
      "\n",
      "           0       1.00      0.99      0.99       762\n",
      "           1       0.98      1.00      0.99       610\n",
      "\n",
      "    accuracy                           0.99      1372\n",
      "   macro avg       0.99      0.99      0.99      1372\n",
      "weighted avg       0.99      0.99      0.99      1372\n",
      "\n"
     ]
    }
   ],
   "source": [
    "print(classification_report(banknote_labels, banknote_outputs))"
   ]
  },
  {
   "cell_type": "code",
   "execution_count": 37,
   "metadata": {},
   "outputs": [
    {
     "name": "stdout",
     "output_type": "stream",
     "text": [
      "[[752  10]\n",
      " [  3 607]]\n"
     ]
    }
   ],
   "source": [
    "print(confusion_matrix(banknote_labels, banknote_outputs))"
   ]
  },
  {
   "cell_type": "markdown",
   "metadata": {},
   "source": [
    "Well, the accuracy is certainly something I can live with. I am surprised it was so good after only 10 epochs. "
   ]
  },
  {
   "cell_type": "code",
   "execution_count": 38,
   "metadata": {},
   "outputs": [
    {
     "data": {
      "text/plain": [
       "[0.2015709651590803,\n",
       " 0.1487187706655097,\n",
       " 0.12812643120483908,\n",
       " 0.1181637506482045,\n",
       " 0.11405614033061764,\n",
       " 0.11265910408811221,\n",
       " 0.11243695962545622,\n",
       " 0.11209806351498572,\n",
       " 0.11086833946901156,\n",
       " 0.10792504366226126]"
      ]
     },
     "execution_count": 38,
     "metadata": {},
     "output_type": "execute_result"
    }
   ],
   "source": [
    "banknote_MLP.rmse"
   ]
  },
  {
   "cell_type": "code",
   "execution_count": 39,
   "metadata": {},
   "outputs": [
    {
     "data": {
      "text/plain": [
       "[0.2002780340525674,\n",
       " 0.1364135692111928,\n",
       " 0.11201568009142907,\n",
       " 0.10072341124852455,\n",
       " 0.09543612027109746,\n",
       " 0.0928873083802931,\n",
       " 0.09166827647492065,\n",
       " 0.09076187798654597,\n",
       " 0.08943985007168123,\n",
       " 0.08717173350403289]"
      ]
     },
     "execution_count": 39,
     "metadata": {},
     "output_type": "execute_result"
    }
   ],
   "source": [
    "banknote_MLP.training_rmse"
   ]
  },
  {
   "cell_type": "code",
   "execution_count": 59,
   "metadata": {},
   "outputs": [],
   "source": [
    "#banknote_MLP.confidence_scores(banknote_values)"
   ]
  },
  {
   "cell_type": "code",
   "execution_count": 58,
   "metadata": {},
   "outputs": [],
   "source": [
    "#banknote_MLP.output_z_values"
   ]
  },
  {
   "cell_type": "code",
   "execution_count": 42,
   "metadata": {},
   "outputs": [
    {
     "name": "stdout",
     "output_type": "stream",
     "text": [
      "911\n",
      "[0.4862065884679286, 0.5709976802928265]\n",
      "925\n",
      "[0.5115268408943882, 0.5372699812592264]\n",
      "979\n",
      "[0.3879438977448633, 0.6567297401854217]\n",
      "1040\n",
      "[0.37373977379386925, 0.6675184319197549]\n",
      "1094\n",
      "[0.4915269362985097, 0.5674091794454563]\n",
      "1101\n",
      "[0.6863859093547825, 0.35329374907131644]\n",
      "1345\n",
      "[0.6229707863213976, 0.42652391709135573]\n"
     ]
    }
   ],
   "source": [
    "for i, thing in enumerate(banknote_MLP.output_z_values):\n",
    "    if max(thing) < 0.7 or min(thing) > 0.3:\n",
    "        print(i)\n",
    "        print(thing)"
   ]
  },
  {
   "cell_type": "markdown",
   "metadata": {},
   "source": [
    "This can tell me which ones I have very little confidence in their scores"
   ]
  },
  {
   "cell_type": "markdown",
   "metadata": {},
   "source": [
    "Now I want to see how well the scikitlearn one does. I suspect the accuracy should be similar (possibly better)"
   ]
  },
  {
   "cell_type": "code",
   "execution_count": 43,
   "metadata": {},
   "outputs": [
    {
     "name": "stderr",
     "output_type": "stream",
     "text": [
      "/home/dsant/anaconda3/lib/python3.8/site-packages/sklearn/neural_network/_multilayer_perceptron.py:582: ConvergenceWarning: Stochastic Optimizer: Maximum iterations (10) reached and the optimization hasn't converged yet.\n",
      "  warnings.warn(\n"
     ]
    }
   ],
   "source": [
    "clf = MLPClassifier(shuffle=False, hidden_layer_sizes=(4), activation='logistic', max_iter=10, learning_rate='constant', learning_rate_init=0.1, momentum=0.5).fit(banknote_values, banknote_labels)"
   ]
  },
  {
   "cell_type": "code",
   "execution_count": 44,
   "metadata": {},
   "outputs": [
    {
     "name": "stdout",
     "output_type": "stream",
     "text": [
      "              precision    recall  f1-score   support\n",
      "\n",
      "           0       0.99      0.99      0.99       762\n",
      "           1       0.98      0.99      0.99       610\n",
      "\n",
      "    accuracy                           0.99      1372\n",
      "   macro avg       0.99      0.99      0.99      1372\n",
      "weighted avg       0.99      0.99      0.99      1372\n",
      "\n",
      "\n",
      "[[752  10]\n",
      " [  7 603]]\n"
     ]
    }
   ],
   "source": [
    "banknote_outputs = clf.predict(banknote_values)\n",
    "print(classification_report(banknote_labels, banknote_outputs))\n",
    "print()\n",
    "print(confusion_matrix(banknote_labels, banknote_outputs))"
   ]
  },
  {
   "cell_type": "markdown",
   "metadata": {},
   "source": [
    "It is slightly worse, actually. I wonder if I made it have a slower learning rate somehow."
   ]
  },
  {
   "cell_type": "markdown",
   "metadata": {},
   "source": [
    "Now I want to look at how these perform on the iris dataset. "
   ]
  },
  {
   "cell_type": "code",
   "execution_count": 45,
   "metadata": {},
   "outputs": [],
   "source": [
    "iris_raw = arff.load(open('iris.arff'))\n",
    "#iris_raw"
   ]
  },
  {
   "cell_type": "code",
   "execution_count": 57,
   "metadata": {},
   "outputs": [],
   "source": [
    "values = []\n",
    "labels = []\n",
    "for entry in iris_raw['data']:\n",
    "    values.append(entry[0:-1])\n",
    "    labels.append((entry[-1]))\n",
    "    \n",
    "#print(labels)\n",
    "#values"
   ]
  },
  {
   "cell_type": "code",
   "execution_count": 47,
   "metadata": {},
   "outputs": [],
   "source": [
    "irisMLP = MLP(hidden_nodes=15, no_improvement_break=50, max_iterations=1500, porportion_train=0.6, momentum=0.5, step_size=0.1)\n",
    "irisMLP.fit(values, labels)  "
   ]
  },
  {
   "cell_type": "code",
   "execution_count": 48,
   "metadata": {},
   "outputs": [
    {
     "name": "stdout",
     "output_type": "stream",
     "text": [
      "234\n",
      "0.14519523443795226\n"
     ]
    }
   ],
   "source": [
    "print(irisMLP.best_epoch)\n",
    "print(irisMLP.best_rmse)"
   ]
  },
  {
   "cell_type": "code",
   "execution_count": 49,
   "metadata": {},
   "outputs": [
    {
     "data": {
      "text/plain": [
       "0.10361827673328458"
      ]
     },
     "execution_count": 49,
     "metadata": {},
     "output_type": "execute_result"
    }
   ],
   "source": [
    "irisMLP.training_rmse[234]"
   ]
  },
  {
   "cell_type": "code",
   "execution_count": 50,
   "metadata": {},
   "outputs": [],
   "source": [
    "irisClf = MLPClassifier(shuffle=False, hidden_layer_sizes=(15), activation='logistic', max_iter=500, learning_rate_init=0.1, momentum=0.5, validation_fraction=0.4).fit(values, labels)"
   ]
  },
  {
   "cell_type": "code",
   "execution_count": 51,
   "metadata": {},
   "outputs": [
    {
     "data": {
      "text/plain": [
       "0.04695283763545288"
      ]
     },
     "execution_count": 51,
     "metadata": {},
     "output_type": "execute_result"
    }
   ],
   "source": [
    "irisClf.best_loss_ # well, that appears tons better than mine"
   ]
  },
  {
   "cell_type": "code",
   "execution_count": 52,
   "metadata": {},
   "outputs": [
    {
     "data": {
      "text/plain": [
       "[array([[ 0.08461092,  0.6029573 ,  0.18617144, -0.94202542,  0.55899757,\n",
       "          0.78528109, -3.4057539 ,  0.17853381,  0.35099107,  0.89162626,\n",
       "          1.05252572,  0.7717855 , -3.70957732,  0.40892237,  0.39288989],\n",
       "        [ 0.81964395,  0.30641933,  0.99668975, -1.52618591,  0.57302524,\n",
       "          0.69273804, -3.9985131 ,  0.77344162,  0.42065574,  0.65181752,\n",
       "          0.15344702,  0.03565185, -3.1156933 ,  0.50520184,  0.78645097],\n",
       "        [ 0.81365611,  0.47584711,  0.82323195,  3.19581097,  0.91427732,\n",
       "          0.95511316,  6.05720997,  0.93695447,  0.5212013 ,  0.2029875 ,\n",
       "          0.24733885,  0.8554517 ,  5.93962894,  0.48857071,  0.44129393],\n",
       "        [ 0.45982762,  0.87524267,  0.85492237,  1.84332699,  0.37208984,\n",
       "          0.9750989 ,  4.12346505,  0.13197064,  0.0400179 ,  0.41206517,\n",
       "          0.95140962,  0.08580854,  4.04676201,  0.05338121,  0.3010534 ],\n",
       "        [ 0.52864568,  0.84685627,  0.33252961, -0.22372295,  0.40027809,\n",
       "          0.13902317, -3.54995485,  0.85494306,  0.61193944,  0.47726747,\n",
       "          0.05577181,  0.85914191, -3.54019461,  0.78885171,  0.60568935]]),\n",
       " array([[ 0.38051326,  0.14552746, -0.58648086],\n",
       "        [ 0.22418111, -0.3707056 , -0.0793547 ],\n",
       "        [ 0.56496386,  0.25807171, -0.92326771],\n",
       "        [-6.60803308,  6.86995235,  2.66639766],\n",
       "        [ 0.26235187, -0.30335884, -0.87546644],\n",
       "        [ 0.26613943, -0.39336442, -0.3230594 ],\n",
       "        [-1.1633202 , -3.56296122,  4.24363177],\n",
       "        [ 0.24785626, -0.10817446, -0.87789961],\n",
       "        [ 0.02286978, -0.23829292, -0.49607114],\n",
       "        [-0.14779748, -0.61277719, -0.07117618],\n",
       "        [ 0.76918358, -0.5334122 , -0.50847697],\n",
       "        [ 0.04484307, -0.20347597, -0.7231961 ],\n",
       "        [-0.57859243, -3.56089679,  3.92529944],\n",
       "        [ 0.3361223 , -0.09310822, -0.26152798],\n",
       "        [ 0.42114203, -0.29484396, -0.82761875],\n",
       "        [-0.11590082, -0.34413682, -0.5171558 ]])]"
      ]
     },
     "execution_count": 52,
     "metadata": {},
     "output_type": "execute_result"
    }
   ],
   "source": [
    "irisMLP.best_weights"
   ]
  },
  {
   "cell_type": "code",
   "execution_count": 53,
   "metadata": {},
   "outputs": [
    {
     "data": {
      "text/plain": [
       "[array([[-7.42716513e-02, -1.13514233e+00,  1.03188516e+00,\n",
       "          1.21822319e-03, -7.12803793e-01,  6.06808089e-01,\n",
       "         -6.21928282e-01,  5.71348293e-01, -7.24097095e-01,\n",
       "         -8.47410629e-01, -7.30794358e-01, -1.76539842e-01,\n",
       "         -5.38739601e-01,  3.69701099e-01, -1.03503796e-01],\n",
       "        [-1.03521733e+00, -8.37645344e-01,  9.37905596e-01,\n",
       "         -1.80960828e+00, -8.00864079e-01,  1.43947271e+00,\n",
       "         -1.05139012e+00,  1.45984998e+00, -9.51563510e-01,\n",
       "         -1.04508658e+00, -1.03416897e+00, -1.45053167e+00,\n",
       "         -5.75247665e-01,  1.38547477e+00,  7.78199058e-01],\n",
       "        [ 3.55493787e-01, -2.98735257e-01, -1.61321515e+00,\n",
       "          1.66165360e+00, -5.16626276e-01, -1.45540278e+00,\n",
       "          1.37173906e+00, -1.48759921e+00, -4.80140199e-01,\n",
       "          1.46580991e+00, -3.42826524e-01,  1.64468358e+00,\n",
       "          1.01840075e+00, -2.08008272e+00, -1.30068569e+00],\n",
       "        [-3.18744898e-01,  1.55368347e-02, -2.70527422e+00,\n",
       "          2.24821294e+00, -1.74521426e-01, -2.11584245e+00,\n",
       "          1.75256523e+00, -1.99444460e+00, -5.24034802e-01,\n",
       "          2.54351404e+00,  2.13776025e-02,  1.79119045e+00,\n",
       "          1.96286382e+00, -1.95711640e+00, -1.42311398e+00]]),\n",
       " array([[ 7.37708281e-04,  1.36553268e+00, -5.28393611e-01],\n",
       "        [-1.49652963e-01, -1.98410816e-01,  1.21010898e-01],\n",
       "        [ 2.17939364e+00,  3.00892707e+00, -3.62779717e+00],\n",
       "        [-2.00929025e+00,  1.18012887e+00,  5.64155904e-01],\n",
       "        [-6.69425572e-01, -1.63010842e-01,  2.87575592e-01],\n",
       "        [ 2.27675730e+00,  1.44566779e+00, -3.23368225e+00],\n",
       "        [-2.59687588e+00, -1.64648038e-01,  3.00078897e+00],\n",
       "        [ 2.11484816e+00,  9.36680875e-01, -3.03986470e+00],\n",
       "        [-2.32943024e-01,  1.42753149e-01,  3.66500751e-01],\n",
       "        [-1.10110165e+00, -1.21171525e+00,  2.27330992e+00],\n",
       "        [ 3.07251337e-01, -1.02734510e-01, -4.92729469e-01],\n",
       "        [-1.73079250e+00,  7.44767892e-01,  1.10760537e+00],\n",
       "        [-1.01112585e+00, -9.31502200e-01,  1.39284301e+00],\n",
       "        [ 3.27179712e+00, -3.06953658e+00, -1.84954861e+00],\n",
       "        [ 4.26460244e-01,  1.87835319e-01, -2.49146579e-01]])]"
      ]
     },
     "execution_count": 53,
     "metadata": {},
     "output_type": "execute_result"
    }
   ],
   "source": [
    "irisClf.coefs_"
   ]
  },
  {
   "cell_type": "code",
   "execution_count": 54,
   "metadata": {},
   "outputs": [
    {
     "data": {
      "text/plain": [
       "121"
      ]
     },
     "execution_count": 54,
     "metadata": {},
     "output_type": "execute_result"
    }
   ],
   "source": [
    "len(irisClf.loss_curve_) # this tells me how many epochs it ran"
   ]
  },
  {
   "cell_type": "code",
   "execution_count": 55,
   "metadata": {},
   "outputs": [
    {
     "name": "stdout",
     "output_type": "stream",
     "text": [
      "                 precision    recall  f1-score   support\n",
      "\n",
      "    Iris-setosa       1.00      1.00      1.00        50\n",
      "Iris-versicolor       0.96      1.00      0.98        48\n",
      " Iris-virginica       1.00      0.96      0.98        52\n",
      "\n",
      "       accuracy                           0.99       150\n",
      "      macro avg       0.99      0.99      0.99       150\n",
      "   weighted avg       0.99      0.99      0.99       150\n",
      "\n",
      "[[50  0  0]\n",
      " [ 0 48  0]\n",
      " [ 0  2 50]]\n"
     ]
    }
   ],
   "source": [
    "iris_predict_MLP = irisMLP.predict(values)\n",
    "print(classification_report(iris_predict_MLP, labels))\n",
    "print(confusion_matrix(iris_predict_MLP, labels))"
   ]
  },
  {
   "cell_type": "code",
   "execution_count": 56,
   "metadata": {},
   "outputs": [
    {
     "name": "stdout",
     "output_type": "stream",
     "text": [
      "                 precision    recall  f1-score   support\n",
      "\n",
      "    Iris-setosa       1.00      1.00      1.00        50\n",
      "Iris-versicolor       0.96      0.98      0.97        49\n",
      " Iris-virginica       0.98      0.96      0.97        51\n",
      "\n",
      "       accuracy                           0.98       150\n",
      "      macro avg       0.98      0.98      0.98       150\n",
      "   weighted avg       0.98      0.98      0.98       150\n",
      "\n",
      "[[50  0  0]\n",
      " [ 0 48  1]\n",
      " [ 0  2 49]]\n"
     ]
    }
   ],
   "source": [
    "iris_predict_clf = irisClf.predict(values)\n",
    "print(classification_report(iris_predict_clf, labels))\n",
    "print(confusion_matrix(iris_predict_clf, labels))"
   ]
  },
  {
   "cell_type": "markdown",
   "metadata": {},
   "source": [
    "Their model did slightly worse than mine, despite the significantly better loss. Not sure why. I still trust theirs better because they have better engineers. "
   ]
  },
  {
   "cell_type": "code",
   "execution_count": null,
   "metadata": {},
   "outputs": [],
   "source": []
  }
 ],
 "metadata": {
  "kernelspec": {
   "display_name": "Python 3",
   "language": "python",
   "name": "python3"
  },
  "language_info": {
   "codemirror_mode": {
    "name": "ipython",
    "version": 3
   },
   "file_extension": ".py",
   "mimetype": "text/x-python",
   "name": "python",
   "nbconvert_exporter": "python",
   "pygments_lexer": "ipython3",
   "version": "3.8.5"
  }
 },
 "nbformat": 4,
 "nbformat_minor": 4
}
